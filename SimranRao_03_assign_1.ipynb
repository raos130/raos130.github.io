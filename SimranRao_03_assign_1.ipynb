{
  "nbformat": 4,
  "nbformat_minor": 0,
  "metadata": {
    "kernelspec": {
      "display_name": "Python 3",
      "language": "python",
      "name": "python3"
    },
    "language_info": {
      "codemirror_mode": {
        "name": "ipython",
        "version": 3
      },
      "file_extension": ".py",
      "mimetype": "text/x-python",
      "name": "python",
      "nbconvert_exporter": "python",
      "pygments_lexer": "ipython3",
      "version": "3.7.4"
    },
    "colab": {
      "name": "SimranRao_03_assign_1",
      "provenance": [],
      "collapsed_sections": [],
      "include_colab_link": true
    }
  },
  "cells": [
    {
      "cell_type": "markdown",
      "metadata": {
        "id": "view-in-github",
        "colab_type": "text"
      },
      "source": [
        "<a href=\"https://colab.research.google.com/github/raos130/raos130.github.io/blob/master/SimranRao_03_assign_1.ipynb\" target=\"_parent\"><img src=\"https://colab.research.google.com/assets/colab-badge.svg\" alt=\"Open In Colab\"/></a>"
      ]
    },
    {
      "cell_type": "code",
      "metadata": {
        "id": "u_fu8yfjDXEV",
        "colab_type": "code",
        "colab": {}
      },
      "source": [
        "song_names = ['in my feelings', 'one dance', 'zero to one hundred', 'gods plan']"
      ],
      "execution_count": null,
      "outputs": []
    },
    {
      "cell_type": "markdown",
      "metadata": {
        "id": "k_L-lTW1DXEb",
        "colab_type": "text"
      },
      "source": [
        "---\n",
        "\n",
        "### 1) What are the types of the following variables?"
      ]
    },
    {
      "cell_type": "code",
      "metadata": {
        "id": "OVzCN6I0DXEc",
        "colab_type": "code",
        "colab": {}
      },
      "source": [
        "a = 1\n",
        "b = 2.6\n",
        "c = [1,2,3,5,6]\n",
        "d = {'steve': 'marino', 'bobby': 'flats'}\n",
        "e = ('one', 'two', 'three')\n",
        "f = {1:{'key':'value'}, 2:{'key2':'value2'}}\n",
        "g = True\n",
        "h = False\n",
        "i = 'integer'"
      ],
      "execution_count": 80,
      "outputs": []
    },
    {
      "cell_type": "code",
      "metadata": {
        "id": "zEDHlaOlDXEh",
        "colab_type": "code",
        "colab": {
          "base_uri": "https://localhost:8080/",
          "height": 170
        },
        "outputId": "5570ba9c-e481-42cd-860a-a54de0a4752e"
      },
      "source": [
        "# A:\n",
        "\n",
        "# a = int\n",
        "# b = float\n",
        "# c = list\n",
        "# d = dict\n",
        "# e = tuple\n",
        "# f = dict\n",
        "# g = bool\n",
        "# h = bool\n",
        "# i = str\n",
        "\n",
        "print (type(a))\n",
        "print (type(b))\n",
        "print (type(c))\n",
        "print (type(d))\n",
        "print (type(e))\n",
        "print (type(f))\n",
        "print (type(g))\n",
        "print (type(h))\n",
        "print (type(i))\n"
      ],
      "execution_count": 85,
      "outputs": [
        {
          "output_type": "stream",
          "text": [
            "<class 'int'>\n",
            "<class 'float'>\n",
            "<class 'list'>\n",
            "<class 'dict'>\n",
            "<class 'tuple'>\n",
            "<class 'dict'>\n",
            "<class 'bool'>\n",
            "<class 'bool'>\n",
            "<class 'str'>\n"
          ],
          "name": "stdout"
        }
      ]
    },
    {
      "cell_type": "markdown",
      "metadata": {
        "id": "1sTd_6PFDXEm",
        "colab_type": "text"
      },
      "source": [
        "---\n",
        "\n",
        "### 2) What is the difference between a \"mutable\" and an \"immutable\" object?"
      ]
    },
    {
      "cell_type": "code",
      "metadata": {
        "id": "5y7Y-IzZDXEn",
        "colab_type": "code",
        "colab": {}
      },
      "source": [
        "# A: A mutable object can be changed after it's created, and an immutable object can't. "
      ],
      "execution_count": null,
      "outputs": []
    },
    {
      "cell_type": "markdown",
      "metadata": {
        "id": "lhc88Di5DXEt",
        "colab_type": "text"
      },
      "source": [
        "---\n",
        "\n",
        "### 3) Print the `song_names` list."
      ]
    },
    {
      "cell_type": "code",
      "metadata": {
        "jupyter": {
          "outputs_hidden": false
        },
        "id": "Ei5pd_G7DXEt",
        "colab_type": "code",
        "colab": {
          "base_uri": "https://localhost:8080/",
          "height": 34
        },
        "outputId": "9b4d6d39-9ef3-493d-b712-ec8a9499aafa"
      },
      "source": [
        "# A:\n",
        "song_names = ['in my feelings', 'one dance', 'zero to one hundred', 'gods plan']\n",
        "\n",
        "print(song_names)"
      ],
      "execution_count": null,
      "outputs": [
        {
          "output_type": "stream",
          "text": [
            "['in my feelings', 'one dance', 'zero to one hundred', 'gods plan']\n"
          ],
          "name": "stdout"
        }
      ]
    },
    {
      "cell_type": "markdown",
      "metadata": {
        "id": "mn-4wIMcDXEx",
        "colab_type": "text"
      },
      "source": [
        "---\n",
        "\n",
        "### 4) Print the names of the first and last song on the list."
      ]
    },
    {
      "cell_type": "code",
      "metadata": {
        "jupyter": {
          "outputs_hidden": false
        },
        "id": "tfgzSMXhDXEy",
        "colab_type": "code",
        "colab": {
          "base_uri": "https://localhost:8080/",
          "height": 34
        },
        "outputId": "b354fa41-e4a8-48ae-fa15-15038104ff42"
      },
      "source": [
        "# A:\n",
        "song_names = ['in my feelings', 'one dance', 'zero to one hundred', 'gods plan']\n",
        "\n",
        "print (song_names[0])"
      ],
      "execution_count": 86,
      "outputs": [
        {
          "output_type": "stream",
          "text": [
            "in my feelings\n"
          ],
          "name": "stdout"
        }
      ]
    },
    {
      "cell_type": "markdown",
      "metadata": {
        "id": "sRoHqe94DXE4",
        "colab_type": "text"
      },
      "source": [
        "---\n",
        "\n",
        "### 5) Print the first five names in the `song_names` list."
      ]
    },
    {
      "cell_type": "code",
      "metadata": {
        "jupyter": {
          "outputs_hidden": false
        },
        "id": "_VvMb7tKDXE5",
        "colab_type": "code",
        "colab": {
          "base_uri": "https://localhost:8080/",
          "height": 34
        },
        "outputId": "d6152822-61e4-4164-cd35-c1aa319598dd"
      },
      "source": [
        "# A:\n",
        "song_names.append('hotline bling')\n",
        "song_names.append('controlla')\n",
        "song_names.append('passionfruit')\n",
        "song_names.append('signs')\n",
        "song_names.append('take care')\n",
        "song_names.append('energy')\n",
        "\n",
        "\n",
        "print (song_names[0:5])"
      ],
      "execution_count": 60,
      "outputs": [
        {
          "output_type": "stream",
          "text": [
            "['in my feelings', 'one dance', 'zero to one hundred', 'gods plan', 'hotline bling']\n"
          ],
          "name": "stdout"
        }
      ]
    },
    {
      "cell_type": "markdown",
      "metadata": {
        "id": "MkPAgLrXDXE8",
        "colab_type": "text"
      },
      "source": [
        "---\n",
        "\n",
        "### 6) Combine the ninth and 10th song names into a single string, separated by a space. Assign that string to a variable."
      ]
    },
    {
      "cell_type": "code",
      "metadata": {
        "jupyter": {
          "outputs_hidden": false
        },
        "id": "3qtW5pfeDXE8",
        "colab_type": "code",
        "colab": {
          "base_uri": "https://localhost:8080/",
          "height": 34
        },
        "outputId": "6e39dd35-6e66-412e-bdc5-b5e813e17c57"
      },
      "source": [
        "# A:\n",
        "d = (song_names[8])\n",
        "e = (song_names[9])\n",
        "f = d + \" \" + e\n",
        "print(f)\n"
      ],
      "execution_count": 70,
      "outputs": [
        {
          "output_type": "stream",
          "text": [
            "take care energy\n"
          ],
          "name": "stdout"
        }
      ]
    },
    {
      "cell_type": "markdown",
      "metadata": {
        "id": "3G2RkEdWDXE_",
        "colab_type": "text"
      },
      "source": [
        "---\n",
        "\n",
        "### 7) Append an animal to the list of animals."
      ]
    },
    {
      "cell_type": "code",
      "metadata": {
        "jupyter": {
          "outputs_hidden": true
        },
        "id": "f5AQLB_tDXE_",
        "colab_type": "code",
        "colab": {}
      },
      "source": [
        "animals = ['duck', 'rat', 'boar', 'slug', 'mammoth', 'gazelle']"
      ],
      "execution_count": null,
      "outputs": []
    },
    {
      "cell_type": "code",
      "metadata": {
        "jupyter": {
          "outputs_hidden": false
        },
        "id": "l7izhbwODXFB",
        "colab_type": "code",
        "colab": {}
      },
      "source": [
        "# A:\n",
        "animals.append('moose')"
      ],
      "execution_count": null,
      "outputs": []
    },
    {
      "cell_type": "code",
      "metadata": {
        "id": "b6auvxkRztrP",
        "colab_type": "code",
        "colab": {
          "base_uri": "https://localhost:8080/",
          "height": 34
        },
        "outputId": "6746584b-5feb-44e7-d918-c8263afe5a38"
      },
      "source": [
        "print(animals)"
      ],
      "execution_count": null,
      "outputs": [
        {
          "output_type": "stream",
          "text": [
            "['duck', 'rat', 'boar', 'slug', 'mammoth', 'gazelle', 'moose']\n"
          ],
          "name": "stdout"
        }
      ]
    },
    {
      "cell_type": "markdown",
      "metadata": {
        "id": "Zp9wKtgrDXFE",
        "colab_type": "text"
      },
      "source": [
        "---\n",
        "\n",
        "### 8) Print the length of the `animals` list."
      ]
    },
    {
      "cell_type": "code",
      "metadata": {
        "id": "vNEtO1nqz2tJ",
        "colab_type": "code",
        "colab": {}
      },
      "source": [
        "animals = ['duck', 'rat', 'boar', 'slug', 'mammoth', 'gazelle']"
      ],
      "execution_count": 32,
      "outputs": []
    },
    {
      "cell_type": "code",
      "metadata": {
        "jupyter": {
          "outputs_hidden": false
        },
        "id": "Lwm9wcmuDXFE",
        "colab_type": "code",
        "colab": {
          "base_uri": "https://localhost:8080/",
          "height": 34
        },
        "outputId": "6fbe57f7-b3a4-4c5c-81f0-48f2a17cd57f"
      },
      "source": [
        "# A:\n",
        "len(animals)"
      ],
      "execution_count": null,
      "outputs": [
        {
          "output_type": "execute_result",
          "data": {
            "text/plain": [
              "6"
            ]
          },
          "metadata": {
            "tags": []
          },
          "execution_count": 82
        }
      ]
    },
    {
      "cell_type": "markdown",
      "metadata": {
        "id": "w1bX7AxyDXFH",
        "colab_type": "text"
      },
      "source": [
        "---\n",
        "\n",
        "### 9) Divide the length of the fifth animal by the second."
      ]
    },
    {
      "cell_type": "code",
      "metadata": {
        "jupyter": {
          "outputs_hidden": false
        },
        "id": "VetL-jXHDXFH",
        "colab_type": "code",
        "colab": {
          "base_uri": "https://localhost:8080/",
          "height": 34
        },
        "outputId": "c5947974-2a66-4667-cd62-cf001a100960"
      },
      "source": [
        "# A:\n",
        "g = len(animals[5])\n",
        "b = len(animals[2])\n",
        "print (int(g/b))\n"
      ],
      "execution_count": 41,
      "outputs": [
        {
          "output_type": "stream",
          "text": [
            "1\n"
          ],
          "name": "stdout"
        }
      ]
    },
    {
      "cell_type": "markdown",
      "metadata": {
        "id": "6o4HezYMDXFL",
        "colab_type": "text"
      },
      "source": [
        "---\n",
        "\n",
        "### 10) Perform the same division, but ensure the output is a decimal number."
      ]
    },
    {
      "cell_type": "code",
      "metadata": {
        "jupyter": {
          "outputs_hidden": false
        },
        "id": "SWruX84tDXFL",
        "colab_type": "code",
        "colab": {
          "base_uri": "https://localhost:8080/",
          "height": 34
        },
        "outputId": "5c0c2397-be95-47dd-a8ff-be4dbbe8da2e"
      },
      "source": [
        "# A:\n",
        "g = len(animals[5])\n",
        "b = len(animals[2])\n",
        "print (g/b)"
      ],
      "execution_count": 40,
      "outputs": [
        {
          "output_type": "stream",
          "text": [
            "1.75\n"
          ],
          "name": "stdout"
        }
      ]
    },
    {
      "cell_type": "markdown",
      "metadata": {
        "id": "9inteS6aDXFO",
        "colab_type": "text"
      },
      "source": [
        "---\n",
        "\n",
        "### 11) Demonstrate two different ways to combine the `animals` list and the `numbers` list."
      ]
    },
    {
      "cell_type": "code",
      "metadata": {
        "jupyter": {
          "outputs_hidden": true
        },
        "id": "6vn3M_ZTDXFO",
        "colab_type": "code",
        "colab": {}
      },
      "source": [
        "numbers = [0., 0.1, 1., 10., 100., 1000.]"
      ],
      "execution_count": 88,
      "outputs": []
    },
    {
      "cell_type": "code",
      "metadata": {
        "jupyter": {
          "outputs_hidden": false
        },
        "id": "aNZxnpaYDXFQ",
        "colab_type": "code",
        "colab": {
          "base_uri": "https://localhost:8080/",
          "height": 34
        },
        "outputId": "a403cb9e-1a5e-40ac-bff2-066ee1cafec0"
      },
      "source": [
        "# A:\n",
        "numbers.append(animals)\n",
        "print(numbers)"
      ],
      "execution_count": 89,
      "outputs": [
        {
          "output_type": "stream",
          "text": [
            "[0.0, 0.1, 1.0, 10.0, 100.0, 1000.0, ['duck', 'rat', 'boar', 'slug', 'mammoth', 'gazelle']]\n"
          ],
          "name": "stdout"
        }
      ]
    },
    {
      "cell_type": "code",
      "metadata": {
        "id": "qkfPEbBc4i3C",
        "colab_type": "code",
        "colab": {
          "base_uri": "https://localhost:8080/",
          "height": 238
        },
        "outputId": "08dd3fb5-5fba-4b24-b594-d04e0aecfab5"
      },
      "source": [
        "animals + numbers"
      ],
      "execution_count": 90,
      "outputs": [
        {
          "output_type": "execute_result",
          "data": {
            "text/plain": [
              "['duck',\n",
              " 'rat',\n",
              " 'boar',\n",
              " 'slug',\n",
              " 'mammoth',\n",
              " 'gazelle',\n",
              " 0.0,\n",
              " 0.1,\n",
              " 1.0,\n",
              " 10.0,\n",
              " 100.0,\n",
              " 1000.0,\n",
              " ['duck', 'rat', 'boar', 'slug', 'mammoth', 'gazelle']]"
            ]
          },
          "metadata": {
            "tags": []
          },
          "execution_count": 90
        }
      ]
    },
    {
      "cell_type": "markdown",
      "metadata": {
        "id": "qOPIxVpEDXFS",
        "colab_type": "text"
      },
      "source": [
        "---\n",
        "\n",
        "### 12) Remove `'kiefer'` from the list and insert your own name in its place."
      ]
    },
    {
      "cell_type": "code",
      "metadata": {
        "jupyter": {
          "outputs_hidden": true
        },
        "id": "b5KZU0ooDXFS",
        "colab_type": "code",
        "colab": {}
      },
      "source": [
        "names = ['doug', 'billy', 'kiefer', 'kian', 'sam']"
      ],
      "execution_count": 91,
      "outputs": []
    },
    {
      "cell_type": "code",
      "metadata": {
        "jupyter": {
          "outputs_hidden": false
        },
        "id": "O1LOqsQMDXFU",
        "colab_type": "code",
        "colab": {
          "base_uri": "https://localhost:8080/",
          "height": 34
        },
        "outputId": "1bb93501-c6d0-4f92-f0df-6cde6550dd8b"
      },
      "source": [
        "# A:\n",
        "names.remove('kiefer')\n",
        "print(names)"
      ],
      "execution_count": 92,
      "outputs": [
        {
          "output_type": "stream",
          "text": [
            "['doug', 'billy', 'kian', 'sam']\n"
          ],
          "name": "stdout"
        }
      ]
    },
    {
      "cell_type": "code",
      "metadata": {
        "id": "zR5pMLD75kFA",
        "colab_type": "code",
        "colab": {
          "base_uri": "https://localhost:8080/",
          "height": 34
        },
        "outputId": "2850aa2b-9202-4360-877d-120ea0ca4447"
      },
      "source": [
        "names.append('jim')\n",
        "print(names)"
      ],
      "execution_count": 93,
      "outputs": [
        {
          "output_type": "stream",
          "text": [
            "['doug', 'billy', 'kian', 'sam', 'jim']\n"
          ],
          "name": "stdout"
        }
      ]
    },
    {
      "cell_type": "markdown",
      "metadata": {
        "id": "e0o8H3zGDXFX",
        "colab_type": "text"
      },
      "source": [
        "---\n",
        "\n",
        "### 13) Count the number of times `0` appears in the following list."
      ]
    },
    {
      "cell_type": "code",
      "metadata": {
        "jupyter": {
          "outputs_hidden": true
        },
        "id": "3M6ZTXubDXFX",
        "colab_type": "code",
        "colab": {}
      },
      "source": [
        "binary = [0,1,1,0,1,0,1,1,1,1,0,0,1,0,0,1,0,1,1,0,0,1,1,0,1,1,0,0,0,1,1,1,0,1,0,1]"
      ],
      "execution_count": 94,
      "outputs": []
    },
    {
      "cell_type": "code",
      "metadata": {
        "jupyter": {
          "outputs_hidden": false
        },
        "id": "hg48DQaKDXFZ",
        "colab_type": "code",
        "colab": {
          "base_uri": "https://localhost:8080/",
          "height": 34
        },
        "outputId": "c708c794-cc07-4720-82fc-88c9bbe2f998"
      },
      "source": [
        "# A:\n",
        "binary.count(0)"
      ],
      "execution_count": 95,
      "outputs": [
        {
          "output_type": "execute_result",
          "data": {
            "text/plain": [
              "16"
            ]
          },
          "metadata": {
            "tags": []
          },
          "execution_count": 95
        }
      ]
    },
    {
      "cell_type": "markdown",
      "metadata": {
        "id": "LTSKMFfGDXFa",
        "colab_type": "text"
      },
      "source": [
        "---\n",
        "\n",
        "### 14) Create an SF (San Francisco) zip code dictionary.\n",
        "\n",
        "With the following key-value pairs:\n",
        "\n",
        "    'sunset':94122\n",
        "    'presidio':94129\n",
        "    'soma':94105\n",
        "    'marina':94123"
      ]
    },
    {
      "cell_type": "code",
      "metadata": {
        "jupyter": {
          "outputs_hidden": false
        },
        "id": "a1mYoY64DXFa",
        "colab_type": "code",
        "colab": {
          "base_uri": "https://localhost:8080/",
          "height": 34
        },
        "outputId": "1620c2eb-726f-4d2d-fd6d-2fa4dd0de676"
      },
      "source": [
        "# A:\n",
        "SF = {\n",
        "'sunset':94122,\n",
        "'presidio':94129,\n",
        "'soma':94105,\n",
        "'marina':94123\n",
        "}\n",
        "\n",
        "print(SF)"
      ],
      "execution_count": null,
      "outputs": [
        {
          "output_type": "stream",
          "text": [
            "{'sunset': 94122, 'presidio': 94129, 'soma': 94105, 'marina': 94123}\n"
          ],
          "name": "stdout"
        }
      ]
    },
    {
      "cell_type": "markdown",
      "metadata": {
        "id": "2jUQ1iDGDXFb",
        "colab_type": "text"
      },
      "source": [
        "---\n",
        "\n",
        "### 15) Get the zip code for `'soma'` and assign it to a variable."
      ]
    },
    {
      "cell_type": "code",
      "metadata": {
        "jupyter": {
          "outputs_hidden": false
        },
        "id": "NKKV-Ff3DXFc",
        "colab_type": "code",
        "colab": {
          "base_uri": "https://localhost:8080/",
          "height": 34
        },
        "outputId": "238c870f-9414-45cb-e6f2-f9dc45b1c037"
      },
      "source": [
        "# A:\n",
        "x = (SF['soma'])\n",
        "print (x)"
      ],
      "execution_count": null,
      "outputs": [
        {
          "output_type": "stream",
          "text": [
            "94105\n"
          ],
          "name": "stdout"
        }
      ]
    },
    {
      "cell_type": "markdown",
      "metadata": {
        "id": "cmJ0637kDXFd",
        "colab_type": "text"
      },
      "source": [
        "---\n",
        "\n",
        "### 16) Get the keys out of the dictionary."
      ]
    },
    {
      "cell_type": "code",
      "metadata": {
        "jupyter": {
          "outputs_hidden": true
        },
        "id": "ZRfVfYafDXFd",
        "colab_type": "code",
        "colab": {
          "base_uri": "https://localhost:8080/",
          "height": 34
        },
        "outputId": "517691e3-aaa4-4af9-9570-489c8d1dba7e"
      },
      "source": [
        "# A:\n",
        "list(SF.keys())"
      ],
      "execution_count": null,
      "outputs": [
        {
          "output_type": "execute_result",
          "data": {
            "text/plain": [
              "['sunset', 'presidio', 'soma', 'marina']"
            ]
          },
          "metadata": {
            "tags": []
          },
          "execution_count": 138
        }
      ]
    },
    {
      "cell_type": "markdown",
      "metadata": {
        "id": "zSM87gTYDXFf",
        "colab_type": "text"
      },
      "source": [
        "---\n",
        "\n",
        "### 17) Get the key-value pairs out of the dictionary as a list of tuples."
      ]
    },
    {
      "cell_type": "code",
      "metadata": {
        "jupyter": {
          "outputs_hidden": true
        },
        "id": "mMm65Xl0DXFf",
        "colab_type": "code",
        "colab": {
          "base_uri": "https://localhost:8080/",
          "height": 34
        },
        "outputId": "2bc2bcc0-6d53-481b-bb0a-b124af3a9cf4"
      },
      "source": [
        "# A:\n",
        "list = [(k, v) for k, v in SF.items()] \n",
        "print(list) "
      ],
      "execution_count": null,
      "outputs": [
        {
          "output_type": "stream",
          "text": [
            "[('sunset', 94122), ('presidio', 94129), ('soma', 94105), ('marina', 94123)]\n"
          ],
          "name": "stdout"
        }
      ]
    },
    {
      "cell_type": "markdown",
      "metadata": {
        "id": "YmjSHDfSDXFg",
        "colab_type": "text"
      },
      "source": [
        "---\n",
        "\n",
        "### 18) Add The Castro to the dictionary with the zip code 94114."
      ]
    },
    {
      "cell_type": "code",
      "metadata": {
        "jupyter": {
          "outputs_hidden": false
        },
        "id": "aomJJUlCDXFg",
        "colab_type": "code",
        "colab": {
          "base_uri": "https://localhost:8080/",
          "height": 34
        },
        "outputId": "84cf211c-2c99-4686-c298-b68452fa9b8c"
      },
      "source": [
        "# A:\n",
        "SF = {\n",
        "'sunset':94122,\n",
        "'presidio':94129,\n",
        "'soma':94105,\n",
        "'marina':94123\n",
        "}\n",
        "\n",
        "SF['The Castro'] = 94114\n",
        "print(SF)\n"
      ],
      "execution_count": 46,
      "outputs": [
        {
          "output_type": "stream",
          "text": [
            "{'sunset': 94122, 'presidio': 94129, 'soma': 94105, 'marina': 94123, 'The Castro': 94114}\n"
          ],
          "name": "stdout"
        }
      ]
    },
    {
      "cell_type": "markdown",
      "metadata": {
        "id": "wRZDyFqVDXFh",
        "colab_type": "text"
      },
      "source": [
        "---\n",
        "\n",
        "### 19) Combine the following smaller dictionary of districts with the SF zip code dictionary."
      ]
    },
    {
      "cell_type": "code",
      "metadata": {
        "jupyter": {
          "outputs_hidden": true
        },
        "id": "YbnczAfJDXFi",
        "colab_type": "code",
        "colab": {}
      },
      "source": [
        "small = {'outer_richmond':94121, 'dogpatch':94107}"
      ],
      "execution_count": 48,
      "outputs": []
    },
    {
      "cell_type": "code",
      "metadata": {
        "jupyter": {
          "outputs_hidden": false
        },
        "id": "xH84wKEaDXFk",
        "colab_type": "code",
        "colab": {
          "base_uri": "https://localhost:8080/",
          "height": 34
        },
        "outputId": "c9076a9e-db4d-408f-fdc9-df16db140207"
      },
      "source": [
        "# A:\n",
        "z = SF.update(small)\n",
        "print(SF)"
      ],
      "execution_count": 49,
      "outputs": [
        {
          "output_type": "stream",
          "text": [
            "{'sunset': 94122, 'presidio': 94129, 'soma': 94105, 'marina': 94123, 'The Castro': 94114, 'outer_richmond': 94121, 'dogpatch': 94107}\n"
          ],
          "name": "stdout"
        }
      ]
    },
    {
      "cell_type": "markdown",
      "metadata": {
        "id": "PrD16393DXFl",
        "colab_type": "text"
      },
      "source": [
        "---\n",
        "\n",
        "### 20) Remove the `'sunset'` zip code and assign it to a variable."
      ]
    },
    {
      "cell_type": "code",
      "metadata": {
        "jupyter": {
          "outputs_hidden": false
        },
        "id": "G-0X8i8kDXFm",
        "colab_type": "code",
        "colab": {
          "base_uri": "https://localhost:8080/",
          "height": 34
        },
        "outputId": "e3d265f8-857c-4c03-99f3-e34ee67614f8"
      },
      "source": [
        "# A:\n",
        "SF = {\n",
        "'sunset':94122,\n",
        "'presidio':94129,\n",
        "'soma':94105,\n",
        "'marina':94123,\n",
        "'The Castro': 94114,\n",
        "'outer_richmond': 94121,\n",
        "'dogpatch': 94107\n",
        "\n",
        "}\n",
        "\n",
        "x = (SF.pop('sunset'))\n",
        "print(SF)"
      ],
      "execution_count": 75,
      "outputs": [
        {
          "output_type": "stream",
          "text": [
            "{'presidio': 94129, 'soma': 94105, 'marina': 94123, 'The Castro': 94114, 'outer_richmond': 94121, 'dogpatch': 94107}\n"
          ],
          "name": "stdout"
        }
      ]
    }
  ]
}